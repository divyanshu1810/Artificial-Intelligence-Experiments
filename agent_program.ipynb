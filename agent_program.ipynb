{
 "cells": [
  {
   "cell_type": "code",
   "execution_count": 2,
   "metadata": {},
   "outputs": [
    {
     "name": "stdout",
     "output_type": "stream",
     "text": [
      "Vertex Colors:\n",
      "Node 3: Color 0\n",
      "Node 4: Color 1\n",
      "Node 1: Color 1\n",
      "Node 2: Color 2\n"
     ]
    }
   ],
   "source": [
    "import networkx as nx\n",
    "import random\n",
    "\n",
    "def vertex_coloring(graph):\n",
    "    colors = {}\n",
    "    agents = list(graph.nodes())\n",
    "    random.shuffle(agents)\n",
    "\n",
    "    for agent in agents:\n",
    "        neighbor_colors = [colors[neighbor] for neighbor in graph.neighbors(agent) if neighbor in colors]\n",
    "        available_colors = set(range(len(neighbor_colors) + 1)) - set(neighbor_colors)\n",
    "        chosen_color = min(available_colors) if available_colors else max(colors.values()) + 1\n",
    "        colors[agent] = chosen_color\n",
    "\n",
    "    return colors\n",
    "\n",
    "# Example usage:\n",
    "G = nx.Graph()\n",
    "G.add_edges_from([(1, 2), (1, 3), (2, 3), (3, 4)])\n",
    "\n",
    "colors = vertex_coloring(G)\n",
    "print(\"Vertex Colors:\")\n",
    "for node, color in colors.items():\n",
    "    print(f\"Node {node}: Color {color}\")\n"
   ]
  }
 ],
 "metadata": {
  "kernelspec": {
   "display_name": "Python 3",
   "language": "python",
   "name": "python3"
  },
  "language_info": {
   "codemirror_mode": {
    "name": "ipython",
    "version": 3
   },
   "file_extension": ".py",
   "mimetype": "text/x-python",
   "name": "python",
   "nbconvert_exporter": "python",
   "pygments_lexer": "ipython3",
   "version": "3.10.12"
  }
 },
 "nbformat": 4,
 "nbformat_minor": 2
}
