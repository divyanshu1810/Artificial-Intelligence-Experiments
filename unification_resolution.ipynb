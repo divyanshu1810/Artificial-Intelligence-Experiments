{
 "cells": [
  {
   "cell_type": "code",
   "execution_count": 1,
   "metadata": {},
   "outputs": [
    {
     "name": "stdout",
     "output_type": "stream",
     "text": [
      "False\n"
     ]
    }
   ],
   "source": [
    "def unify(var, value, substitution):\n",
    "    \"\"\"Unify a variable with a value in the substitution.\"\"\"\n",
    "    if var in substitution:\n",
    "        return unify(substitution[var], value, substitution)\n",
    "    elif value in substitution:\n",
    "        return unify(var, substitution[value], substitution)\n",
    "    elif isinstance(value, str) and value.startswith('?'):\n",
    "        substitution[value] = var\n",
    "        return substitution\n",
    "    elif var != value:\n",
    "        return False\n",
    "    else:\n",
    "        return substitution\n",
    "\n",
    "def unify_args(args1, args2, substitution):\n",
    "    \"\"\"Unify arguments of compound terms.\"\"\"\n",
    "    if len(args1) != len(args2):\n",
    "        return False\n",
    "    for arg1, arg2 in zip(args1, args2):\n",
    "        substitution = unify(arg1, arg2, substitution)\n",
    "        if not substitution:\n",
    "            return False\n",
    "    return substitution\n",
    "\n",
    "def unify_terms(term1, term2, substitution):\n",
    "    \"\"\"Unify two terms.\"\"\"\n",
    "    if isinstance(term1, str) and term1.startswith('?'):\n",
    "        return unify(term1, term2, substitution)\n",
    "    elif isinstance(term2, str) and term2.startswith('?'):\n",
    "        return unify(term2, term1, substitution)\n",
    "    elif isinstance(term1, tuple) and isinstance(term2, tuple):\n",
    "        return unify_args(term1, term2, substitution)\n",
    "    elif term1 != term2:\n",
    "        return False\n",
    "    else:\n",
    "        return substitution\n",
    "\n",
    "# Example usage\n",
    "substitution = unify_terms(('?x', ('?y', '?z')), (('a', 'b'), ('c', 'd')), {})\n",
    "print(substitution)  # Output: {'?x': ('a', 'b'), '?y': 'c', '?z': 'd'}\n"
   ]
  }
 ],
 "metadata": {
  "kernelspec": {
   "display_name": "Python 3",
   "language": "python",
   "name": "python3"
  },
  "language_info": {
   "codemirror_mode": {
    "name": "ipython",
    "version": 3
   },
   "file_extension": ".py",
   "mimetype": "text/x-python",
   "name": "python",
   "nbconvert_exporter": "python",
   "pygments_lexer": "ipython3",
   "version": "3.10.12"
  }
 },
 "nbformat": 4,
 "nbformat_minor": 2
}
