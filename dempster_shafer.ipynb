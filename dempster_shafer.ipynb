{
 "cells": [
  {
   "cell_type": "code",
   "execution_count": 14,
   "metadata": {},
   "outputs": [
    {
     "name": "stdout",
     "output_type": "stream",
     "text": [
      "Belief functions: {'H1': 0.216, 'H2': 0.16799999999999998, 'H3': 0.21600000000000003}\n",
      "Most probable hypothesis: H3\n"
     ]
    }
   ],
   "source": [
    "import numpy as np\n",
    "\n",
    "# Step 1: Define hypotheses and basic probabilities\n",
    "hypotheses = ['H1', 'H2', 'H3']  # Example hypotheses\n",
    "basic_probabilities = {'H1': 0.3, 'H2': 0.4, 'H3': 0.3}  # Example basic probabilities\n",
    "\n",
    "# Step 2: Define evidence and its support for each hypothesis\n",
    "evidence = {'E1': {'H1': 0.2, 'H2': 0.3, 'H3': 0.1},\n",
    "            'E2': {'H1': 0.1, 'H2': 0.4, 'H3': 0.2}}\n",
    "\n",
    "# Step 3: Combine basic probabilities and evidence\n",
    "def combine_evidence(basic_prob, evidence):\n",
    "    combined_belief = {h: basic_prob[h] for h in hypotheses}\n",
    "    for e in evidence:\n",
    "        for h in hypotheses:\n",
    "            combined_belief[h] *= 1 - evidence[e][h]\n",
    "    return combined_belief\n",
    "\n",
    "# Step 4: Calculate belief functions\n",
    "belief_functions = combine_evidence(basic_probabilities, evidence)\n",
    "\n",
    "# Step 5: Determine the most probable hypothesis\n",
    "most_probable_hypothesis = max(belief_functions, key=belief_functions.get)\n",
    "\n",
    "print(\"Belief functions:\", belief_functions)\n",
    "print(\"Most probable hypothesis:\", most_probable_hypothesis)\n"
   ]
  }
 ],
 "metadata": {
  "kernelspec": {
   "display_name": "Python 3",
   "language": "python",
   "name": "python3"
  },
  "language_info": {
   "codemirror_mode": {
    "name": "ipython",
    "version": 3
   },
   "file_extension": ".py",
   "mimetype": "text/x-python",
   "name": "python",
   "nbconvert_exporter": "python",
   "pygments_lexer": "ipython3",
   "version": "3.10.12"
  }
 },
 "nbformat": 4,
 "nbformat_minor": 2
}
