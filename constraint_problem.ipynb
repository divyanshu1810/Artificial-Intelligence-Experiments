{
 "cells": [
  {
   "cell_type": "code",
   "execution_count": 8,
   "metadata": {},
   "outputs": [
    {
     "name": "stdout",
     "output_type": "stream",
     "text": [
      "6853 + 728 = 7581 (mapping: {'y': 1, 'm': 0, 'n': 5, 'd': 3, 'r': 2, 'o': 7, 'e': 8, 's': 6})\n",
      "9567 + 1085 = 10652 (mapping: {'y': 2, 'm': 1, 'n': 6, 'd': 7, 'r': 8, 'o': 0, 'e': 5, 's': 9})\n",
      "6419 + 724 = 7143 (mapping: {'y': 3, 'm': 0, 'n': 1, 'd': 9, 'r': 2, 'o': 7, 'e': 4, 's': 6})\n",
      "7429 + 814 = 8243 (mapping: {'y': 3, 'm': 0, 'n': 2, 'd': 9, 'r': 1, 'o': 8, 'e': 4, 's': 7})\n",
      "7539 + 815 = 8354 (mapping: {'y': 4, 'm': 0, 'n': 3, 'd': 9, 'r': 1, 'o': 8, 'e': 5, 's': 7})\n",
      "2817 + 368 = 3185 (mapping: {'y': 5, 'm': 0, 'n': 1, 'd': 7, 'r': 6, 'o': 3, 'e': 8, 's': 2})\n",
      "7649 + 816 = 8465 (mapping: {'y': 5, 'm': 0, 'n': 4, 'd': 9, 'r': 1, 'o': 8, 'e': 6, 's': 7})\n",
      "3719 + 457 = 4176 (mapping: {'y': 6, 'm': 0, 'n': 1, 'd': 9, 'r': 5, 'o': 4, 'e': 7, 's': 3})\n",
      "7531 + 825 = 8356 (mapping: {'y': 6, 'm': 0, 'n': 3, 'd': 1, 'r': 2, 'o': 8, 'e': 5, 's': 7})\n",
      "8432 + 914 = 9346 (mapping: {'y': 6, 'm': 0, 'n': 3, 'd': 2, 'r': 1, 'o': 9, 'e': 4, 's': 8})\n",
      "2819 + 368 = 3187 (mapping: {'y': 7, 'm': 0, 'n': 1, 'd': 9, 'r': 6, 'o': 3, 'e': 8, 's': 2})\n",
      "8324 + 913 = 9237 (mapping: {'y': 7, 'm': 0, 'n': 2, 'd': 4, 'r': 1, 'o': 9, 'e': 3, 's': 8})\n",
      "3829 + 458 = 4287 (mapping: {'y': 7, 'm': 0, 'n': 2, 'd': 9, 'r': 5, 'o': 4, 'e': 8, 's': 3})\n",
      "8542 + 915 = 9457 (mapping: {'y': 7, 'm': 0, 'n': 4, 'd': 2, 'r': 1, 'o': 9, 'e': 5, 's': 8})\n",
      "5849 + 638 = 6487 (mapping: {'y': 7, 'm': 0, 'n': 4, 'd': 9, 'r': 3, 'o': 6, 'e': 8, 's': 5})\n",
      "5731 + 647 = 6378 (mapping: {'y': 8, 'm': 0, 'n': 3, 'd': 1, 'r': 4, 'o': 6, 'e': 7, 's': 5})\n",
      "3712 + 467 = 4179 (mapping: {'y': 9, 'm': 0, 'n': 1, 'd': 2, 'r': 6, 'o': 4, 'e': 7, 's': 3})\n",
      "6415 + 734 = 7149 (mapping: {'y': 9, 'm': 0, 'n': 1, 'd': 5, 'r': 3, 'o': 7, 'e': 4, 's': 6})\n",
      "7316 + 823 = 8139 (mapping: {'y': 9, 'm': 0, 'n': 1, 'd': 6, 'r': 2, 'o': 8, 'e': 3, 's': 7})\n",
      "3821 + 468 = 4289 (mapping: {'y': 9, 'm': 0, 'n': 2, 'd': 1, 'r': 6, 'o': 4, 'e': 8, 's': 3})\n",
      "6524 + 735 = 7259 (mapping: {'y': 9, 'm': 0, 'n': 2, 'd': 4, 'r': 3, 'o': 7, 'e': 5, 's': 6})\n",
      "5732 + 647 = 6379 (mapping: {'y': 9, 'm': 0, 'n': 3, 'd': 2, 'r': 4, 'o': 6, 'e': 7, 's': 5})\n",
      "7534 + 825 = 8359 (mapping: {'y': 9, 'm': 0, 'n': 3, 'd': 4, 'r': 2, 'o': 8, 'e': 5, 's': 7})\n",
      "7643 + 826 = 8469 (mapping: {'y': 9, 'm': 0, 'n': 4, 'd': 3, 'r': 2, 'o': 8, 'e': 6, 's': 7})\n",
      "6851 + 738 = 7589 (mapping: {'y': 9, 'm': 0, 'n': 5, 'd': 1, 'r': 3, 'o': 7, 'e': 8, 's': 6})\n"
     ]
    }
   ],
   "source": [
    "import itertools\n",
    "\n",
    "\n",
    "def get_value(word, substitution):\n",
    "    s = 0\n",
    "    factor = 1\n",
    "    for letter in reversed(word):\n",
    "        s += factor * substitution[letter]\n",
    "        factor *= 10\n",
    "    return s\n",
    "\n",
    "\n",
    "def solve2(equation):\n",
    "    # split equation in left and right\n",
    "    left, right = equation.lower().replace(' ', '').split('=')\n",
    "    # split words in left part\n",
    "    left = left.split('+')\n",
    "    # create list of used letters\n",
    "    letters = set(right)\n",
    "    for word in left:\n",
    "        for letter in word:\n",
    "            letters.add(letter)\n",
    "    letters = list(letters)\n",
    "\n",
    "    digits = range(10)\n",
    "    for perm in itertools.permutations(digits, len(letters)):\n",
    "        sol = dict(zip(letters, perm))\n",
    "\n",
    "        if sum(get_value(word, sol) for word in left) == get_value(right, sol):\n",
    "            print(' + '.join(str(get_value(word, sol)) for word in left) + \" = {} (mapping: {})\".format(get_value(right, sol), sol))\n",
    "\n",
    "if __name__ == '__main__':\n",
    "    solve2('SEND + MORE = MONEY')"
   ]
  }
 ],
 "metadata": {
  "kernelspec": {
   "display_name": "Python 3",
   "language": "python",
   "name": "python3"
  },
  "language_info": {
   "codemirror_mode": {
    "name": "ipython",
    "version": 3
   },
   "file_extension": ".py",
   "mimetype": "text/x-python",
   "name": "python",
   "nbconvert_exporter": "python",
   "pygments_lexer": "ipython3",
   "version": "3.10.12"
  }
 },
 "nbformat": 4,
 "nbformat_minor": 2
}
